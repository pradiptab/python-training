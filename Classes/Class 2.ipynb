{
 "cells": [
  {
   "cell_type": "code",
   "execution_count": 1,
   "metadata": {},
   "outputs": [
    {
     "data": {
      "text/plain": [
       "range(0, 10)"
      ]
     },
     "execution_count": 1,
     "metadata": {},
     "output_type": "execute_result"
    }
   ],
   "source": [
    "r = range(10)\n",
    "r"
   ]
  },
  {
   "cell_type": "code",
   "execution_count": 2,
   "metadata": {},
   "outputs": [
    {
     "data": {
      "text/plain": [
       "[0, 1, 2, 3, 4, 5, 6, 7, 8, 9]"
      ]
     },
     "execution_count": 2,
     "metadata": {},
     "output_type": "execute_result"
    }
   ],
   "source": [
    "list(r)\n"
   ]
  },
  {
   "cell_type": "code",
   "execution_count": 7,
   "metadata": {},
   "outputs": [
    {
     "data": {
      "text/plain": [
       "[1, 3, 5, 7, 9]"
      ]
     },
     "execution_count": 7,
     "metadata": {},
     "output_type": "execute_result"
    }
   ],
   "source": [
    "list(range(1, 10, 2))"
   ]
  },
  {
   "cell_type": "code",
   "execution_count": 8,
   "metadata": {},
   "outputs": [
    {
     "data": {
      "text/plain": [
       "[10, 9, 8, 7, 6, 5, 4, 3, 2]"
      ]
     },
     "execution_count": 8,
     "metadata": {},
     "output_type": "execute_result"
    }
   ],
   "source": [
    "list(range(10, 1, -1))"
   ]
  },
  {
   "cell_type": "code",
   "execution_count": 42,
   "metadata": {},
   "outputs": [
    {
     "name": "stdout",
     "output_type": "stream",
     "text": [
      "7\n",
      "    1\n",
      "    2\n",
      "    3\n",
      "    4\n",
      "    5\n",
      "    1\n",
      "    200\n",
      "10000\n"
     ]
    }
   ],
   "source": [
    "l = [1,2,3,4,5,1]\n",
    "k =10000\n",
    "l.append(200)\n",
    "p = len(l)\n",
    "print(p)\n",
    "for i in l :\n",
    "    print('   ', i)\n",
    "print(k)"
   ]
  },
  {
   "cell_type": "code",
   "execution_count": 45,
   "metadata": {},
   "outputs": [
    {
     "name": "stdout",
     "output_type": "stream",
     "text": [
      "    0\n",
      "    1\n",
      "    2\n",
      "    3\n",
      "    4\n",
      "    5\n",
      "    6\n",
      "    7\n"
     ]
    }
   ],
   "source": [
    "l = [1,2,30,4,5,1, 23, 12]\n",
    "for i in range(len(l)) :\n",
    "        print('   ', i)\n"
   ]
  },
  {
   "cell_type": "code",
   "execution_count": 64,
   "metadata": {},
   "outputs": [
    {
     "name": "stdout",
     "output_type": "stream",
     "text": [
      "1 - 1 is less than  10\n",
      "2 - 2 is less than  10\n",
      "3 - 30 is greater than  20\n",
      "4 - 4 is less than  10\n",
      "5 - 5 is less than  10\n",
      "6 - 17 is greater than  10\n",
      "7 - 23 is greater than  20\n",
      "8 - 12 is greater than  10\n",
      "9 - praipta is a string\n",
      "10 - mindfire is a string\n"
     ]
    }
   ],
   "source": [
    "l = [1,2,30,4,5,17, 23, 12, 'praipta', 'mindfire']\n",
    "s=10\n",
    "y =20\n",
    "j=1;\n",
    "for i in l :\n",
    "    if type(i) == str :\n",
    "        print(j, '-', i, 'is a string')\n",
    "    elif i > y :\n",
    "        print(j, '-', i, 'is greater than ', y)\n",
    "    elif i > s :\n",
    "        print(j, '-', i, 'is greater than ', s)\n",
    "    else :\n",
    "        print(j, '-', i, 'is less than ', s)\n",
    "    j+=1\n"
   ]
  },
  {
   "cell_type": "code",
   "execution_count": 71,
   "metadata": {},
   "outputs": [
    {
     "name": "stdout",
     "output_type": "stream",
     "text": [
      "12\n",
      "13\n",
      "14\n",
      "4\n",
      "List completed\n"
     ]
    }
   ],
   "source": [
    "l = [2,3,4]\n",
    "for i in l:\n",
    "    print(i + 10)\n",
    "else :\n",
    "    print(i)\n",
    "    print('List completed')"
   ]
  },
  {
   "cell_type": "code",
   "execution_count": 73,
   "metadata": {},
   "outputs": [
    {
     "name": "stdout",
     "output_type": "stream",
     "text": [
      "12\n",
      "13\n",
      "14\n"
     ]
    }
   ],
   "source": [
    "l = [2,3,4]\n",
    "for i in l:\n",
    "    print(i + 10)\n",
    "    if i == 4 :\n",
    "        break;\n",
    "else :\n",
    "    print('List completed')"
   ]
  },
  {
   "cell_type": "code",
   "execution_count": 82,
   "metadata": {},
   "outputs": [
    {
     "name": "stdout",
     "output_type": "stream",
     "text": [
      "r\n",
      "a\n",
      "d\n",
      "i\n",
      "t\n",
      "a\n",
      "loop completed\n"
     ]
    }
   ],
   "source": [
    "name = 'pradipta'\n",
    "for n in name:\n",
    "    if (n == 'p') :\n",
    "        continue;\n",
    "    print(n)\n",
    "else:\n",
    "    print (\"loop completed\")"
   ]
  },
  {
   "cell_type": "code",
   "execution_count": 79,
   "metadata": {},
   "outputs": [
    {
     "name": "stdout",
     "output_type": "stream",
     "text": [
      "15\n",
      "areheb atpidarp\n"
     ]
    }
   ],
   "source": [
    "name = 'pradipta behera'\n",
    "print(len(name))\n",
    "print(name[::-1])"
   ]
  },
  {
   "cell_type": "code",
   "execution_count": 89,
   "metadata": {},
   "outputs": [
    {
     "name": "stdout",
     "output_type": "stream",
     "text": [
      "122\n"
     ]
    },
    {
     "data": {
      "text/plain": [
       "122"
      ]
     },
     "execution_count": 89,
     "metadata": {},
     "output_type": "execute_result"
    }
   ],
   "source": [
    "int(input())\n"
   ]
  },
  {
   "cell_type": "code",
   "execution_count": 102,
   "metadata": {},
   "outputs": [
    {
     "name": "stdout",
     "output_type": "stream",
     "text": [
      "insert integer only:4\n",
      "[4, 4]\n"
     ]
    }
   ],
   "source": [
    "a = int(input(\"insert integer only:\"))\n",
    "l = [1,2,6,4,5,3,65,46,88,8,90,0,4,2,2,'w',23,2]\n",
    "m = []\n",
    "for i in l :\n",
    "    if a == i:\n",
    "        m.append(i)\n",
    "print(m)"
   ]
  },
  {
   "cell_type": "code",
   "execution_count": 101,
   "metadata": {},
   "outputs": [
    {
     "data": {
      "text/plain": [
       "False"
      ]
     },
     "execution_count": 101,
     "metadata": {},
     "output_type": "execute_result"
    }
   ],
   "source": [
    "'2'==2\n"
   ]
  },
  {
   "cell_type": "code",
   "execution_count": 98,
   "metadata": {},
   "outputs": [
    {
     "data": {
      "text/plain": [
       "True"
      ]
     },
     "execution_count": 98,
     "metadata": {},
     "output_type": "execute_result"
    }
   ],
   "source": [
    "True == True\n"
   ]
  },
  {
   "cell_type": "code",
   "execution_count": null,
   "metadata": {},
   "outputs": [],
   "source": []
  }
 ],
 "metadata": {
  "kernelspec": {
   "display_name": "Python 3",
   "language": "python",
   "name": "python3"
  },
  "language_info": {
   "codemirror_mode": {
    "name": "ipython",
    "version": 3
   },
   "file_extension": ".py",
   "mimetype": "text/x-python",
   "name": "python",
   "nbconvert_exporter": "python",
   "pygments_lexer": "ipython3",
   "version": "3.7.6"
  }
 },
 "nbformat": 4,
 "nbformat_minor": 4
}
