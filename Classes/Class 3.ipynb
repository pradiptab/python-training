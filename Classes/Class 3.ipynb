{
 "cells": [
  {
   "cell_type": "code",
   "execution_count": 1,
   "metadata": {},
   "outputs": [
    {
     "name": "stdout",
     "output_type": "stream",
     "text": [
      "Pradipta\n",
      "PradiptaPradiptaPradiptaPradiptaPradipta\n"
     ]
    }
   ],
   "source": [
    "s = 'Pradipta'\n",
    "print(s)\n",
    "print(s * 5)"
   ]
  },
  {
   "cell_type": "code",
   "execution_count": 2,
   "metadata": {},
   "outputs": [
    {
     "name": "stdout",
     "output_type": "stream",
     "text": [
      "[1, 2, 3, 'pradipta']\n",
      "[1, 2, 3, 'pradipta', 1, 2, 3, 'pradipta', 1, 2, 3, 'pradipta']\n"
     ]
    }
   ],
   "source": [
    "l = [1,2,3,'pradipta']\n",
    "print(l)\n",
    "print(l * 3)"
   ]
  },
  {
   "cell_type": "code",
   "execution_count": 28,
   "metadata": {},
   "outputs": [
    {
     "name": "stdout",
     "output_type": "stream",
     "text": [
      "Pradipta kishor behera\n",
      "PRADIPTA KISHOR BEHERA\n",
      "pradipta kishor behera\n",
      "pradipta kishor behera\n",
      "['PRAD', 'pta k', 'shOR beHeRa']\n",
      "('PRAD', 'i', 'pta kishOR beHeRa')\n",
      "('PRADipta kishOR beHeRa', '', '')\n",
      "<class 'list'>\n",
      "<class 'tuple'>\n",
      "2\n",
      "--------------PRADipta kishOR beHeRa--------------\n",
      "PRADipta kishOR beHeRa\n",
      "['Pradipta', 'Kishor', 'Behera']\n",
      "Pradipta        Kishor  Behera\n"
     ]
    }
   ],
   "source": [
    "s = 'PRADipta kishOR beHeRa'\n",
    "print(s.capitalize())\n",
    "print(s.upper())\n",
    "print(s.lower())\n",
    "print(s.casefold())\n",
    "print(s.split('i'))    # Default separator is SPACE. Its case sensitive\n",
    "print(s.partition('i'))  # Considers only first occurance. Keeps the delimiter in the occurance\n",
    "print(s.partition('z'))   # Always returns 3 values\n",
    "\n",
    "print(type(s.split()))\n",
    "print(type(s.partition('K')))\n",
    "\n",
    "print(s.find('A'))      # First occurance index\n",
    "\n",
    "print(s.center(50, '-'))    # second delimeter is optional\n",
    "print(s.center(5, '-'))    # second delimeter is optional\n",
    "\n",
    "print(\"Pradipta\\tKishor\\tBehera\".split('\\t'))\n",
    "print(\"Pradipta\\tKishor\\tBehera\".expandtabs())"
   ]
  },
  {
   "cell_type": "code",
   "execution_count": 30,
   "metadata": {},
   "outputs": [
    {
     "name": "stdout",
     "output_type": "stream",
     "text": [
      "What is your age? 36\n",
      "Hello, My name is Pradipta. I am 36 years old.\n"
     ]
    }
   ],
   "source": [
    "name = 'Pradipta'\n",
    "age = input(\"What is your age? \")\n",
    "print('Hello, My name is {}. I am {} years old.'.format(name, age))"
   ]
  },
  {
   "cell_type": "code",
   "execution_count": 38,
   "metadata": {},
   "outputs": [
    {
     "name": "stdout",
     "output_type": "stream",
     "text": [
      "True\n",
      "False\n",
      "True\n",
      "True\n",
      "True\n",
      "True\n",
      "False\n"
     ]
    }
   ],
   "source": [
    "s = 'asa12'\n",
    "print(s.isalnum())\n",
    "print(s.isalpha())\n",
    "print(s.islower())\n",
    "print(s.isprintable())\n",
    "print(s.isidentifier())\n",
    "print(s.isascii())\n",
    "print(s.istitle())"
   ]
  },
  {
   "cell_type": "code",
   "execution_count": 42,
   "metadata": {},
   "outputs": [
    {
     "name": "stdout",
     "output_type": "stream",
     "text": [
      "['P', 'r', 'a', 'd', 'i', 'p', 't', 'a']\n",
      "['pradipta']\n"
     ]
    }
   ],
   "source": [
    "print(list('Pradipta'))     # String is converted t character array\n",
    "print(['pradipta'])"
   ]
  },
  {
   "cell_type": "code",
   "execution_count": 52,
   "metadata": {},
   "outputs": [
    {
     "name": "stdout",
     "output_type": "stream",
     "text": [
      "[1, 2, 3, 4, 5, 10]\n",
      "[1, 2, 3, 15, 4, 5, 10]\n",
      "[1, 2, 3, 15, 4, 5, ['hello', 1], 10]\n",
      "10\n",
      "[1, 2, 3, 15, 4, 5, ['hello', 1]]\n",
      "['hello', 1]\n",
      "[1, 2, 3, 15, 4, 5]\n",
      "15\n",
      "[1, 2, 3, 4, 5]\n",
      "[5, 4, 3, 2, 1]\n",
      "[1, 2, 3, 4, 5]\n",
      "[5, 4, 3, 2, 1]\n"
     ]
    }
   ],
   "source": [
    "m = [1,2,3,4,5]\n",
    "m.append(10)\n",
    "print(m)\n",
    "m.insert(3, 15)\n",
    "print(m)\n",
    "m.insert(-1, ['hello', 1])   # adding in -1 index, so the item in -1 is moved riight\n",
    "print(m)\n",
    "\n",
    "print(m.pop())\n",
    "print(m)\n",
    "\n",
    "print(m.pop())\n",
    "print(m)\n",
    "\n",
    "print(m.pop(3))     # Pop 3rd index item\n",
    "print(m)\n",
    "\n",
    "print(m[::-1])\n",
    "print(m)\n",
    "\n",
    "m.reverse()\n",
    "print(m)"
   ]
  },
  {
   "cell_type": "code",
   "execution_count": 59,
   "metadata": {},
   "outputs": [
    {
     "name": "stdout",
     "output_type": "stream",
     "text": [
      "[[1, 2, 3, 4, 5], [10, 11, 12, 13, 14, 15], [50, 51, 52]]\n",
      "[10, 11, 12, 13, 14, 15]\n",
      "[10, 12, 14]\n",
      "[[5, 4, 3, 2, 1], [15, 14, 13, 12, 11, 10], [52, 51, 50]]\n"
     ]
    }
   ],
   "source": [
    "a = [1,2,3,4,5]\n",
    "b= [10, 11, 12, 13, 14, 15]\n",
    "c= [50, 51,52]\n",
    "d = [a,b,c]\n",
    "print(d)\n",
    "\n",
    "print(d[1])\n",
    "print(d[1][::2])\n",
    "\n",
    "for m in d:\n",
    "    m.reverse()\n",
    "print(d)"
   ]
  },
  {
   "cell_type": "code",
   "execution_count": 64,
   "metadata": {},
   "outputs": [
    {
     "name": "stdout",
     "output_type": "stream",
     "text": [
      "[1, 2, 3, 4, 5]\n"
     ]
    },
    {
     "data": {
      "text/plain": [
       "[{2}, {4}, {6}, {8}, {10}]"
      ]
     },
     "execution_count": 64,
     "metadata": {},
     "output_type": "execute_result"
    }
   ],
   "source": [
    "p = [1,2,3,4,5]\n",
    "print(p)\n",
    "[[i*2] for i in p]\n",
    "[{i*2} for i in p]"
   ]
  },
  {
   "cell_type": "code",
   "execution_count": 65,
   "metadata": {},
   "outputs": [
    {
     "name": "stdout",
     "output_type": "stream",
     "text": [
      "[1, 2, 3, 4, 5, 4, 5, 6, 7, 8, 9]\n"
     ]
    }
   ],
   "source": [
    "p = [1,2,3,4,5]\n",
    "p.extend([4,5,6,7,8,9])\n",
    "print(p)"
   ]
  },
  {
   "cell_type": "code",
   "execution_count": 71,
   "metadata": {},
   "outputs": [
    {
     "name": "stdout",
     "output_type": "stream",
     "text": [
      "2\n"
     ]
    }
   ],
   "source": [
    "p = [1,2,3,4,5]\n",
    "print(p.index(3))\n",
    "## print(p.index(30))    # Index gives error when item not found"
   ]
  },
  {
   "cell_type": "code",
   "execution_count": 73,
   "metadata": {},
   "outputs": [
    {
     "data": {
      "text/plain": [
       "[1, 2, 3, 4, 5]"
      ]
     },
     "execution_count": 73,
     "metadata": {},
     "output_type": "execute_result"
    }
   ],
   "source": [
    "p = [1,2,3,4,5]\n",
    "for i in p:\n",
    "    pass\n",
    "p"
   ]
  },
  {
   "cell_type": "code",
   "execution_count": null,
   "metadata": {},
   "outputs": [],
   "source": []
  }
 ],
 "metadata": {
  "kernelspec": {
   "display_name": "Python 3",
   "language": "python",
   "name": "python3"
  },
  "language_info": {
   "codemirror_mode": {
    "name": "ipython",
    "version": 3
   },
   "file_extension": ".py",
   "mimetype": "text/x-python",
   "name": "python",
   "nbconvert_exporter": "python",
   "pygments_lexer": "ipython3",
   "version": "3.7.6"
  }
 },
 "nbformat": 4,
 "nbformat_minor": 4
}
