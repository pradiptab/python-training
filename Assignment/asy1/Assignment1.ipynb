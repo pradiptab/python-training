{
 "cells": [
  {
   "cell_type": "markdown",
   "metadata": {},
   "source": [
    "Task 1:\n"
   ]
  },
  {
   "cell_type": "code",
   "execution_count": 1,
   "metadata": {},
   "outputs": [
    {
     "name": "stdout",
     "output_type": "stream",
     "text": [
      "[2002, 2009, 2016, 2023, 2037, 2044, 2051, 2058, 2072, 2079, 2086, 2093, 2107, 2114, 2121, 2128, 2142, 2149, 2156, 2163, 2177, 2184, 2191, 2198, 2212, 2219, 2226, 2233, 2247, 2254, 2261, 2268, 2282, 2289, 2296, 2303, 2317, 2324, 2331, 2338, 2352, 2359, 2366, 2373, 2387, 2394, 2401, 2408, 2422, 2429, 2436, 2443, 2457, 2464, 2471, 2478, 2492, 2499, 2506, 2513, 2527, 2534, 2541, 2548, 2562, 2569, 2576, 2583, 2597, 2604, 2611, 2618, 2632, 2639, 2646, 2653, 2667, 2674, 2681, 2688, 2702, 2709, 2716, 2723, 2737, 2744, 2751, 2758, 2772, 2779, 2786, 2793, 2807, 2814, 2821, 2828, 2842, 2849, 2856, 2863, 2877, 2884, 2891, 2898, 2912, 2919, 2926, 2933, 2947, 2954, 2961, 2968, 2982, 2989, 2996, 3003, 3017, 3024, 3031, 3038, 3052, 3059, 3066, 3073, 3087, 3094, 3101, 3108, 3122, 3129, 3136, 3143, 3157, 3164, 3171, 3178, 3192, 3199]\n"
     ]
    }
   ],
   "source": [
    "# 1 . Install Jupyter notebook and run the first program and share the screenshot of the output.\n",
    "\n",
    "#2 . Write a program which will find all such numbers which are divisible by 7 but are not a multiple\n",
    "# of 5, between 2000 and 3200 (both included). The numbers obtained should be printed in a\n",
    "# comma-separated sequence on a single line.'''\n",
    "\n",
    "result = []\n",
    "for i in list(range(2000,3200+1)) :\n",
    "    if (i % 7) == 0 and (i % 5) != 0 :\n",
    "        result.append(i)\n",
    "print(result)"
   ]
  },
  {
   "cell_type": "code",
   "execution_count": 2,
   "metadata": {},
   "outputs": [
    {
     "name": "stdout",
     "output_type": "stream",
     "text": [
      "Enter first name: Pradipta\n",
      "Enter last name: Behera\n"
     ]
    },
    {
     "data": {
      "text/plain": [
       "'areheB atpidarP'"
      ]
     },
     "execution_count": 2,
     "metadata": {},
     "output_type": "execute_result"
    }
   ],
   "source": [
    "# 3. Write a Python program to accept the user's first and last name and then getting them printed\n",
    "# in the the reverse order with a space between first name and last name.\n",
    "\n",
    "firstName = input(\"Enter first name: \")\n",
    "lastName = input(\"Enter last name: \")\n",
    "fullName = firstName + \" \" + lastName\n",
    "fullName[::-1]"
   ]
  },
  {
   "cell_type": "code",
   "execution_count": 3,
   "metadata": {},
   "outputs": [
    {
     "name": "stdout",
     "output_type": "stream",
     "text": [
      "904.896\n"
     ]
    }
   ],
   "source": [
    "# 4. Write a Python program to find the volume of a sphere with diameter 12 cm. Formula: V=4/3 * π * r 3\n",
    "dia = 12\n",
    "pi = 3.142\n",
    "v = (4/3) * pi * ((dia / 2) ** 3)\n",
    "print(v)"
   ]
  },
  {
   "cell_type": "markdown",
   "metadata": {},
   "source": [
    "Task 2:"
   ]
  },
  {
   "cell_type": "code",
   "execution_count": 4,
   "metadata": {},
   "outputs": [
    {
     "name": "stdout",
     "output_type": "stream",
     "text": [
      "Enter list size:6\n",
      "Enter 0th value:2\n",
      "Enter 1th value:7\n",
      "Enter 2th value:8\n",
      "Enter 3th value:6\n",
      "Enter 4th value:7\n",
      "Enter 5th value:9\n",
      "['2', '7', '8', '6', '7', '9']\n"
     ]
    }
   ],
   "source": [
    "# 1. Write a program which accepts a sequence of comma-separated numbers from console and generate a list.\n",
    "\n",
    "result = []\n",
    "for i in list(range(int(input(\"Enter list size:\")))) :\n",
    "    val = input(\"Enter \" + str(i) + \"th value:\")\n",
    "    result.append(val)\n",
    "print(result)"
   ]
  },
  {
   "cell_type": "code",
   "execution_count": 5,
   "metadata": {},
   "outputs": [
    {
     "name": "stdout",
     "output_type": "stream",
     "text": [
      "Enter max columns:7\n",
      "* \n",
      "* * \n",
      "* * * \n",
      "* * * * \n",
      "* * * * * \n",
      "* * * * * * \n",
      "* * * * * * * \n",
      "* * * * * * \n",
      "* * * * * \n",
      "* * * * \n",
      "* * * \n",
      "* * \n",
      "* \n",
      "\n"
     ]
    }
   ],
   "source": [
    "# 2. Create the below pattern using nested for loop in Python.\n",
    "\"\"\"\n",
    "*\n",
    "* *\n",
    "* * *\n",
    "* * * *\n",
    "* * * * *\n",
    "* * * *\n",
    "* * *\n",
    "* *\n",
    "*\n",
    "\"\"\"\n",
    "n = int(input(\"Enter max columns:\"))\n",
    "rows = ((n * 2) + 1)\n",
    "for i in list(range(1, rows)) :\n",
    "    r = ''\n",
    "    if i <= n :\n",
    "        for j in list(range(i)):\n",
    "            r += '* '\n",
    "    else :\n",
    "        for j in list(range(i, rows -1)):\n",
    "            r += '* '\n",
    "    print(r)"
   ]
  },
  {
   "cell_type": "code",
   "execution_count": 7,
   "metadata": {},
   "outputs": [
    {
     "name": "stdout",
     "output_type": "stream",
     "text": [
      "Enter string: AcadGild\n",
      "dliGdacA\n"
     ]
    }
   ],
   "source": [
    "# 3. Write a Python program to reverse a word after accepting the input from the user.\n",
    "# Sample Output:\n",
    "# Input word: AcadGild\n",
    "# Output: dilGdacA\n",
    "\n",
    "s = input(\"Enter string: \")\n",
    "print(s[::-1])"
   ]
  },
  {
   "cell_type": "code",
   "execution_count": 9,
   "metadata": {},
   "outputs": [
    {
     "name": "stdout",
     "output_type": "stream",
     "text": [
      "\n",
      "WE, THE PEOPLE OF INDIA,\n",
      " having solemnly resolved to constitute India into a SOVEREIGN,\n",
      " SOCIALIST, SECULAR,\n",
      " DEMOCRATIC REPUBLIC and to secure to all its citizens,\n"
     ]
    }
   ],
   "source": [
    "# 4. Write a Python Program to print the given string in the format specified in the sample output.\n",
    "# WE, THE PEOPLE OF INDIA, having solemnly resolved to constitute India into a\n",
    "# SOVEREIGN, SOCIALIST, SECULAR, DEMOCRATIC REPUBLIC and to secure to all\n",
    "# its citizens\n",
    "# Sample Output:\n",
    "# WE, THE PEOPLE OF INDIA,\n",
    "# having solemnly resolved to constitute India into a SOVEREIGN, !\n",
    "# SOCIALIST, SECULAR, DEMOCRATIC REPUBLIC\n",
    "# and to secure to all its citizens\n",
    "\n",
    "str = '''WE, THE PEOPLE OF INDIA, having solemnly resolved to constitute India into a SOVEREIGN, SOCIALIST, SECULAR, DEMOCRATIC REPUBLIC and to secure to all its citizens'''\n",
    "x = ''\n",
    "for i in str.split(','):\n",
    "    if i.isupper() :\n",
    "        if x.isupper() :\n",
    "            x += (i + ',')\n",
    "        else :\n",
    "            print(x)\n",
    "            x = (i + ',')\n",
    "    else:\n",
    "        print(x)\n",
    "        x = (i + ',')\n",
    "print(x)"
   ]
  },
  {
   "cell_type": "code",
   "execution_count": null,
   "metadata": {},
   "outputs": [],
   "source": []
  }
 ],
 "metadata": {
  "kernelspec": {
   "display_name": "Python 3",
   "language": "python",
   "name": "python3"
  },
  "language_info": {
   "codemirror_mode": {
    "name": "ipython",
    "version": 3
   },
   "file_extension": ".py",
   "mimetype": "text/x-python",
   "name": "python",
   "nbconvert_exporter": "python",
   "pygments_lexer": "ipython3",
   "version": "3.7.6"
  }
 },
 "nbformat": 4,
 "nbformat_minor": 4
}
